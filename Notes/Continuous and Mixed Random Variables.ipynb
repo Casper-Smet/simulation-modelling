{
 "cells": [
  {
   "cell_type": "code",
   "execution_count": null,
   "metadata": {},
   "outputs": [],
   "source": [
    "import numpy as np\n",
    "import matplotlib.pyplot as plt"
   ]
  },
  {
   "cell_type": "markdown",
   "metadata": {},
   "source": [
    "# Continuous and Mixed Random Variables\n",
    "# Discrete Random Variables\n",
    "Notes based on [Probability course's chapter 4](https://www.probabilitycourse.com/chapter4/4_0_0_intro.php)."
   ]
  },
  {
   "cell_type": "markdown",
   "metadata": {},
   "source": [
    "## Introduction\n",
    "As we defined in __Discrete Random Variables__, a _discrete_ random variable takes only a countable number of values. A _continuous_ random variable, however, has a range defined as an interval or a union of non-overlapping intervals on the real line. \n",
    "\n",
    "This means that the methods used to describe and analyse _discrete_ random variables are usually not suited to describe or analyse _continuous_. Simply said, if you replace instances of _sums_ with _integrals_, and _PMFs_ with _PDFs_, these methods work again."
   ]
  }
 ],
 "metadata": {
  "kernelspec": {
   "display_name": "Python 3",
   "language": "python",
   "name": "python3"
  },
  "language_info": {
   "codemirror_mode": {
    "name": "ipython",
    "version": 3
   },
   "file_extension": ".py",
   "mimetype": "text/x-python",
   "name": "python",
   "nbconvert_exporter": "python",
   "pygments_lexer": "ipython3",
   "version": "3.7.5"
  }
 },
 "nbformat": 4,
 "nbformat_minor": 2
}
