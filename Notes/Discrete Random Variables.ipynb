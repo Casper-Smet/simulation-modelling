{
 "cells": [
  {
   "cell_type": "code",
   "execution_count": 1,
   "metadata": {},
   "outputs": [],
   "source": [
    "import numpy as np\n",
    "from math import factorial, exp\n",
    "import matplotlib.pyplot as plt\n",
    "from matplotlib.axes import Axes"
   ]
  },
  {
   "cell_type": "markdown",
   "metadata": {},
   "source": [
    "# Discrete Random Variables\n",
    "Notes based on [Probability course's chapter 3](https://www.probabilitycourse.com/chapter3/3_1_1_random_variables.php)."
   ]
  },
  {
   "cell_type": "markdown",
   "metadata": {},
   "source": [
    "## Basic Concepts\n",
    "\n",
    "### Range\n",
    "A random variable is a 'real-valued' function that assigns a numerical value to each possible outcome of a random experiment. Essentially mapping a set numerical values to a set of possibly non-numerical values.   \n",
    "\n",
    "$X : S \\rightarrow \\mathbb{R}$\n",
    "\n",
    "Say you flip a coin twice, then the possible results are defined as such:"
   ]
  },
  {
   "cell_type": "code",
   "execution_count": 2,
   "metadata": {},
   "outputs": [
    {
     "data": {
      "text/plain": [
       "[('Heads', 'Heads'),\n",
       " ('Heads', 'Tails'),\n",
       " ('Tails', 'Heads'),\n",
       " ('Tails', 'Tails')]"
      ]
     },
     "execution_count": 2,
     "metadata": {},
     "output_type": "execute_result"
    }
   ],
   "source": [
    "coin = [\"Heads\", \"Tails\"]\n",
    "outcomes = [(c1, c2) for c1 in coin for c2 in coin]\n",
    "outcomes"
   ]
  },
  {
   "cell_type": "markdown",
   "metadata": {},
   "source": [
    "The possible results is a list (or sample space) of length 4. Each unique outcome can then be mapped to a numerical value. \n",
    "The numerical values used are called the range of a random variable."
   ]
  },
  {
   "cell_type": "code",
   "execution_count": 3,
   "metadata": {},
   "outputs": [
    {
     "data": {
      "text/plain": [
       "[0, 1, 2, 3]"
      ]
     },
     "execution_count": 3,
     "metadata": {},
     "output_type": "execute_result"
    }
   ],
   "source": [
    "x_range = list(range(len(outcomes)))\n",
    "x_range"
   ]
  },
  {
   "cell_type": "code",
   "execution_count": 4,
   "metadata": {},
   "outputs": [
    {
     "data": {
      "text/plain": [
       "[(0, ('Heads', 'Heads')),\n",
       " (1, ('Heads', 'Tails')),\n",
       " (2, ('Tails', 'Heads')),\n",
       " (3, ('Tails', 'Tails'))]"
      ]
     },
     "execution_count": 4,
     "metadata": {},
     "output_type": "execute_result"
    }
   ],
   "source": [
    "mapped_x = list(zip(x_range, outcomes))\n",
    "mapped_x"
   ]
  },
  {
   "cell_type": "markdown",
   "metadata": {},
   "source": [
    "$(X) = R_{X} = \\{0,1,2,3\\}$"
   ]
  },
  {
   "cell_type": "markdown",
   "metadata": {},
   "source": [
    "### Difference between Discrete and Continuous random variables\n",
    "\n",
    "A random variable is considered discrete when its range is countable. A range is a set, and a set is countable when it is either:\n",
    "\n",
    "* A finite set such as $\\{1,2,3\\}$, or\n",
    "* It can be put in one-to-one correspondence with natural numbers. These types of sets are said to be countably infinite.\n",
    "\n",
    "### Probability Mass Function (PMF)\n",
    "\n",
    "Random variables are often denoted by use of capital letters, $X, Y, Z$, etc. The numbers in a random variable's range, however, are usually denoted by lowercase letters such as $x_{1}, x_{2}, y_{1}, z_{1}$, etc.\n",
    "\n",
    "In order to figure out the probability of the event where $X = x_{k}$, the **probability mass function** may be used. The first step, is to define the event:  \n",
    "\n",
    "$A = \\{ s \\in S | X(s) = x_{k} \\}$  \n",
    "\n",
    "Next, to define the **probability mass function**:\n",
    "\n",
    "$P_{X}(x_{k}) = P(X = x_{k})$ where\n",
    "> $R_{X} = \\{x_{0}, x_{1}, x_{2},...\\}$  \n",
    "> $k = 0, 1, 2,...$\n",
    "\n"
   ]
  },
  {
   "cell_type": "code",
   "execution_count": 5,
   "metadata": {},
   "outputs": [
    {
     "data": {
      "text/plain": [
       "([0, 1, 1, 2], [0, 1, 2])"
      ]
     },
     "execution_count": 5,
     "metadata": {},
     "output_type": "execute_result"
    }
   ],
   "source": [
    "S = sorted([outcome.count(\"Heads\") for outcome in outcomes])\n",
    "X_range = list(range(len(set(S))))\n",
    "S, X_range"
   ]
  },
  {
   "cell_type": "code",
   "execution_count": 6,
   "metadata": {},
   "outputs": [],
   "source": [
    "def PMF(S, i):\n",
    "    \"\"\"S : Sample space, i : Index, returns  probability mass function of item i in S\"\"\"\n",
    "    return S.count(S[i]) / len(S)\n"
   ]
  },
  {
   "cell_type": "code",
   "execution_count": 7,
   "metadata": {},
   "outputs": [
    {
     "name": "stdout",
     "output_type": "stream",
     "text": [
      "PMF for S(x_k) = 0: 0.25\n",
      "PMF for S(x_k) = 1: 0.5\n",
      "PMF for S(x_k) = 1: 0.5\n",
      "PMF for S(x_k) = 2: 0.25\n"
     ]
    }
   ],
   "source": [
    "for i in range(len(S)):\n",
    "    print(f\"PMF for S(x_k) = {S[i]}: {PMF(S, i)}\")"
   ]
  },
  {
   "cell_type": "markdown",
   "metadata": {},
   "source": [
    "The **probability mass function** is also called the **probability distribution**.\n",
    "\n",
    "### Independent Random Variables\n",
    "\n",
    "### Special Distributions"
   ]
  },
  {
   "cell_type": "code",
   "execution_count": 8,
   "metadata": {},
   "outputs": [],
   "source": [
    "def plot_distribution(chances, p, name=\"\"):\n",
    "    fig, axs = plt.subplots(1,1)\n",
    "    max_ = max(chances, key=lambda x : x[1])[1]\n",
    "    if max_ < 0.5:\n",
    "        ylim = max_ + 0.1\n",
    "    else:\n",
    "        ylim = 1\n",
    "    \n",
    "    axs.set_ylim((0, ylim))\n",
    "    axs.set_xlim((0, len(chances)))\n",
    "    for k, PXk in chances:\n",
    "        axs.axvline(x=k, ymax=PXk/ylim)\n",
    "        axs.scatter(k, PXk, color=\"blue\")\n",
    "    axs.set_title(f\"PMF {name}({p})\")\n",
    "    plt.show()"
   ]
  },
  {
   "cell_type": "markdown",
   "metadata": {},
   "source": [
    "#### Bernoulli\n",
    "$\n",
    "\\begin{equation}\n",
    "             \\nonumber P_X(x) = \\left\\{\n",
    "              \\begin{array}{l l}\n",
    "                 p& \\quad \\text{for  } x=1\\\\\n",
    "                1-p & \\quad \\text{ for } x=0\\\\\n",
    "                0  & \\quad \\text{ otherwise}\n",
    "              \\end{array} \\right.\n",
    "            \\end{equation}\n",
    "$\n",
    "\n",
    "#### Geometric\n",
    "$\n",
    "\\begin{equation}\n",
    "             \\nonumber P_X(k) = \\left\\{\n",
    "              \\begin{array}{l l}\n",
    "                 p(1-p)^{k-1}& \\quad \\text{for  } k=1,2,3,...\\\\\n",
    "                0  & \\quad \\text{ otherwise}\n",
    "              \\end{array} \\right.\n",
    "            \\end{equation}$"
   ]
  },
  {
   "cell_type": "code",
   "execution_count": 9,
   "metadata": {},
   "outputs": [
    {
     "data": {
      "image/png": "[encoded data removed]",
      "text/plain": [
       "<Figure size 432x288 with 1 Axes>"
      ]
     },
     "metadata": {
      "needs_background": "light"
     },
     "output_type": "display_data"
    }
   ],
   "source": [
    "def geometric(p=0.5, x_range=20):\n",
    "    chances = [(0,0)]\n",
    "    \n",
    "    for k in range(1, x_range + 1):\n",
    "        chances.append((k, (p * (1-p)**(k-1))))\n",
    "    plot_distribution(chances, p, name=\"Geometric\")\n",
    "    return chances\n",
    "    \n",
    "_ = geometric()"
   ]
  },
  {
   "cell_type": "markdown",
   "metadata": {},
   "source": [
    "#### Binomial \n",
    "$\\begin{equation}\n",
    "             \\nonumber P_X(k) = \\left\\{\n",
    "              \\begin{array}{l l}\n",
    "                 {n \\choose k}p^k(1-p)^{n-k}& \\quad \\text{for  } k=0,1,2,\\cdots,n\\\\\n",
    "                0  & \\quad \\text{otherwise}\n",
    "              \\end{array} \\right.\n",
    "            \\end{equation}$"
   ]
  },
  {
   "cell_type": "code",
   "execution_count": 10,
   "metadata": {},
   "outputs": [],
   "source": [
    "def binomial_coef(n, k, n_fac=None):\n",
    "    if n_fac == None:\n",
    "        n_fac = factorial(n)\n",
    "  \n",
    "    return n_fac / (factorial(k) * factorial(n - k))\n"
   ]
  },
  {
   "cell_type": "code",
   "execution_count": 11,
   "metadata": {},
   "outputs": [
    {
     "data": {
      "image/png": "[encoded data removed]",
      "text/plain": [
       "<Figure size 432x288 with 1 Axes>"
      ]
     },
     "metadata": {
      "needs_background": "light"
     },
     "output_type": "display_data"
    },
    {
     "data": {
      "image/png": "[encoded data removed]",
      "text/plain": [
       "<Figure size 432x288 with 1 Axes>"
      ]
     },
     "metadata": {
      "needs_background": "light"
     },
     "output_type": "display_data"
    }
   ],
   "source": [
    "def binomial(p=0.3, n=10):\n",
    "    chances = []\n",
    "    n_factorial = factorial(n)\n",
    "    for k in range(n + 1):\n",
    "        chances.append((k, binomial_coef(n, k, n_fac=n_factorial) * p**k * (1-p)**(n-k)))\n",
    "        \n",
    "    plot_distribution(chances, p, name=\"Binomial\")\n",
    "    return chances\n",
    "\n",
    "_ = binomial()\n",
    "\n",
    "_ = binomial(p=0.6, n=20)"
   ]
  },
  {
   "cell_type": "markdown",
   "metadata": {},
   "source": [
    "#### Negative Binomial (Pascal)\n",
    "$\\begin{equation}\n",
    "             \\nonumber P_X(k) = \\left\\{\n",
    "              \\begin{array}{l l}\n",
    "                 {k-1 \\choose m-1} p^{m}(1-p)^{k-m}& \\quad \\text{for  } k=m,m+1,m+2,m+3,...\\\\\n",
    "                0  & \\quad \\text{otherwise}\n",
    "              \\end{array} \\right.\n",
    "            \\end{equation}$"
   ]
  },
  {
   "cell_type": "code",
   "execution_count": 12,
   "metadata": {},
   "outputs": [
    {
     "data": {
      "image/png": "[encoded data removed]",
      "text/plain": [
       "<Figure size 432x288 with 1 Axes>"
      ]
     },
     "metadata": {
      "needs_background": "light"
     },
     "output_type": "display_data"
    }
   ],
   "source": [
    "def pascal(p=0.5, m=3, length=20):\n",
    "    chances = [(x, 0) for x in range(m)]\n",
    "    for k in range(m, length):\n",
    "        k_factorial = factorial(k)\n",
    "        chances.append((k, binomial_coef(k-1, m-1, n_fac=k_factorial) * p**m * (1-p)**(k-m)))\n",
    "    plot_distribution(chances, p, name=\"Negative Binomial (Pascal)\")\n",
    "    return chances\n",
    "\n",
    "_ = pascal()"
   ]
  },
  {
   "cell_type": "markdown",
   "metadata": {},
   "source": [
    "#### Hypergeometric \n",
    "Honestly, what?  \n",
    "$\\begin{equation}\n",
    "             \\nonumber P_X(x) = \\left\\{\n",
    "              \\begin{array}{l l}\n",
    "                 \\frac{{b \\choose x} {r \\choose k-x}}{{b+r \\choose k}}& \\quad \\text{for  } x \\in R_X\\\\\n",
    "                0  & \\quad \\text{otherwise}\n",
    "              \\end{array} \\right.\n",
    "            \\end{equation}$\n",
    "            \n",
    "#### Poisson \n",
    "$ \\begin{equation}\n",
    "             \\nonumber P_X(k) = \\left\\{\n",
    "              \\begin{array}{l l}\n",
    "                 \\frac{e^{-\\lambda} \\lambda^k}{k!}& \\quad \\text{for  } k \\in R_X\\\\\n",
    "                0  & \\quad \\text{ otherwise}\n",
    "              \\end{array} \\right.\n",
    "            \\end{equation}$"
   ]
  },
  {
   "cell_type": "code",
   "execution_count": 13,
   "metadata": {},
   "outputs": [
    {
     "data": {
      "image/png": "[encoded data removed]",
      "text/plain": [
       "<Figure size 432x288 with 1 Axes>"
      ]
     },
     "metadata": {
      "needs_background": "light"
     },
     "output_type": "display_data"
    },
    {
     "data": {
      "image/png": "[encoded data removed]",
      "text/plain": [
       "<Figure size 432x288 with 1 Axes>"
      ]
     },
     "metadata": {
      "needs_background": "light"
     },
     "output_type": "display_data"
    },
    {
     "data": {
      "image/png": "[encoded data removed]",
      "text/plain": [
       "<Figure size 432x288 with 1 Axes>"
      ]
     },
     "metadata": {
      "needs_background": "light"
     },
     "output_type": "display_data"
    }
   ],
   "source": [
    "def poisson(mean=1, n=20):\n",
    "    chances = []\n",
    "    \n",
    "    for k in range(n+1):\n",
    "        chances.append((k, (exp(-mean) * mean**k) / factorial(k)))\n",
    "    plot_distribution(chances, mean, name=\"Poisson\")\n",
    "    \n",
    "    return chances\n",
    "\n",
    "_ = poisson()\n",
    "\n",
    "_ = poisson(mean=5)\n",
    "\n",
    "_ = poisson(mean=10)\n",
    "        \n",
    "    "
   ]
  }
 ],
 "metadata": {
  "kernelspec": {
   "display_name": "Python 3",
   "language": "python",
   "name": "python3"
  },
  "language_info": {
   "codemirror_mode": {
    "name": "ipython",
    "version": 3
   },
   "file_extension": ".py",
   "mimetype": "text/x-python",
   "name": "python",
   "nbconvert_exporter": "python",
   "pygments_lexer": "ipython3",
   "version": "3.7.5"
  }
 },
 "nbformat": 4,
 "nbformat_minor": 2
}
