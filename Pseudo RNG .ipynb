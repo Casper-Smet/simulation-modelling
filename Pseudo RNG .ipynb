{
 "cells": [
  {
   "cell_type": "code",
   "execution_count": 1,
   "metadata": {},
   "outputs": [],
   "source": [
    "import numpy as np\n",
    "from itertools import chain\n",
    "from scipy.special import erfc\n",
    "from scipy.stats import chisquare\n",
    "from math import log2, pi\n",
    "import matplotlib.pyplot as plt\n",
    "%matplotlib inline"
   ]
  },
  {
   "cell_type": "markdown",
   "metadata": {},
   "source": [
    "# Pseudo-random number generator\n",
    "In this assignment, I write a pseudo-random number generator. The chosen type of generator is the __Lagged Fibonacci Generator__. \n",
    "\n",
    "The LFG is called a generalised Fibonacci model. It takes the Fibonacci sequence, where each element is computed using the two previously computed elements\n",
    ">$x_{n} = x_{n-1} + x_{n-2} $\n",
    "\n",
    "And it generalises it. Instead of $n-1$ and $n-2$, it uses $n-j$ and $n-k$. It generalises Fibonacci further, by replacing the additive quantity (use of +) with $O$, standing for an algebraic operation. An LFG is defined as such:  \n",
    "> $x_{n} = n_{n-j} \\ O \\ x_{n-k} (mod \\ m)$\n",
    "\n",
    "The maximum random value for an LFG equals $m-1$.  \n",
    "\n",
    "There are three variations for the LFG, the _additive_ LFG (ALFG, +), the _multiplicative_ LFG (MLFG, $\\times$), and the _subtractive_ LFG (SLFG, -). While all three are usable with this class, only the ALFG will be extensively tested. The ALFG is generally considered to be the most viable LFG.\n",
    "\n",
    "The period (amount of iterations before it repeats), differs between the three variations:\n",
    "\n",
    "> _additive_ : $(2^{k} - 1) \\cdot 2^{m-1}$  \n",
    "> _multiplicative_ : $(2^{k} - 1) \\cdot 2^{m-3}$  \n",
    "> _subtractive_ : $(2^{k} - 1) \\cdot 2^{m-1}$ \n",
    "\n",
    "\n",
    "The starting parameters of the LFG must abide to a couple of rules:\n",
    ">$0 \\lt j \\lt k$  \n",
    ">$k \\leq |seed|$\n",
    "\n",
    "\n",
    "Finally, the LFG is incredibly sensitive to its starting parameters, its $j, k$ and seed. Finding a ‘good’ seed could take some time. \n",
    "\n",
    "The standard initial parameters used are $j=1,\\ k=1,\\ m=16$. The seed is 6421893."
   ]
  },
  {
   "cell_type": "code",
   "execution_count": 2,
   "metadata": {},
   "outputs": [],
   "source": [
    "class MyRandom(object):\n",
    "    def __init__(self, seed: int, operation: str =\"+\", j: int =1, k: int =4, m: int =16):\n",
    "        \"\"\"An implementation of the Lagged Fibonacci Generator. \n",
    "        Allows for additive, subtractive and multiplicative variations. \"\"\"\n",
    "        assert 0 < j < k\n",
    "        seed = str(seed)\n",
    "        assert len(seed) >= k\n",
    "        \n",
    "        if operation == \"+\":\n",
    "            self.op = lambda x, y : x + y\n",
    "            self.period = (2**k -1 ) * 2**(m-1)\n",
    "        elif operation == \"*\":\n",
    "            self.op = lambda x, y : x * y\n",
    "            self.period = (2**k - 1) * 2**(m-3)\n",
    "        elif operation == \"-\":\n",
    "            self.op = lambda x, y : x - y\n",
    "            self.period = (2**k - 1) * 2**(m-1)\n",
    "        else:\n",
    "            raise Exception\n",
    "        \n",
    "        self.seed = np.fromiter(map(int, seed), dtype=np.int)\n",
    "        self.j = j\n",
    "        self.k = k\n",
    "        self.m = m\n",
    "        self.RAND_MAX = m - 1\n",
    "    def random(self):\n",
    "        \"\"\"Generates a random number between 0 and m-1\"\"\"\n",
    "        randint = self.op(self.seed[self.j-1], self.seed[self.k-1]) % self.m\n",
    "        self.seed = np.append(self.seed[1:], randint)\n",
    "        return randint\n",
    "    \n",
    "    def randfloat(self):\n",
    "        \"\"\"Generates a random number between 0 and 1\"\"\"\n",
    "        randint = self.random()\n",
    "        randfloat = randint / self.RAND_MAX\n",
    "        return randfloat\n",
    "        \n",
    "        "
   ]
  },
  {
   "cell_type": "markdown",
   "metadata": {},
   "source": [
    "### Generating pseudo-random numbers\n",
    "Generate five pseudo-random numbers per variation of the LFG. The number on the right is the pseudo-random number, the array on the left is the seed. "
   ]
  },
  {
   "cell_type": "code",
   "execution_count": 3,
   "metadata": {},
   "outputs": [
    {
     "name": "stdout",
     "output_type": "stream",
     "text": [
      "ALFG with period of 491520\n",
      "[6 4 2 1 8 9 3] 7\n",
      "[4 2 1 8 9 3 7] 12\n",
      "[ 2  1  8  9  3  7 12] 11\n",
      "[ 1  8  9  3  7 12 11] 4\n",
      "[ 8  9  3  7 12 11  4] 15\n"
     ]
    }
   ],
   "source": [
    "rand_add = MyRandom(6421893)\n",
    "print(f\"ALFG with period of {rand_add.period}\")\n",
    "for i in range(5):\n",
    "    print(rand_add.seed, rand_add.random())"
   ]
  },
  {
   "cell_type": "code",
   "execution_count": 4,
   "metadata": {},
   "outputs": [
    {
     "name": "stdout",
     "output_type": "stream",
     "text": [
      "MLFG with period of 122880\n",
      "[6 4 2 1 8 9 3] 6\n",
      "[4 2 1 8 9 3 6] 0\n",
      "[2 1 8 9 3 6 0] 2\n",
      "[1 8 9 3 6 0 2] 3\n",
      "[8 9 3 6 0 2 3] 0\n"
     ]
    }
   ],
   "source": [
    "rand_mult = MyRandom(6421893, operation=\"*\")\n",
    "print(f\"MLFG with period of {rand_mult.period}\")\n",
    "for i in range(5):\n",
    "    print(rand_mult.seed, rand_mult.random())"
   ]
  },
  {
   "cell_type": "code",
   "execution_count": 5,
   "metadata": {},
   "outputs": [
    {
     "name": "stdout",
     "output_type": "stream",
     "text": [
      "SLFG with period of 491520\n",
      "[6 4 2 1 8 9 3] 5\n",
      "[4 2 1 8 9 3 5] 12\n",
      "[ 2  1  8  9  3  5 12] 9\n",
      "[ 1  8  9  3  5 12  9] 14\n",
      "[ 8  9  3  5 12  9 14] 3\n"
     ]
    }
   ],
   "source": [
    "rand_sub = MyRandom(6421893, operation=\"-\")\n",
    "print(f\"SLFG with period of {rand_sub.period}\")\n",
    "for i in range(5):\n",
    "    print(rand_sub.seed, rand_sub.random())"
   ]
  },
  {
   "cell_type": "markdown",
   "metadata": {},
   "source": [
    "## Testing the LFG\n",
    "Among the five tests presented in [Computer Simulation Techniques: The definitive introduction, (2008)](https://people.engr.ncsu.edu/hp/files/simulation.pdf), I chose to implement the Frequency (Monobit) test, and the Chi-square test for goodness of fit. \n",
    "\n",
    "The other five tests, are difficult to impossible implement for the LFG. The Chi-square test also needed significant alteration. \n",
    "\n",
    "The Chi-square test, as described in [Computer Simulation Techniques: The definitive introduction, (2008)](https://people.engr.ncsu.edu/hp/files/simulation.pdf), needs possible values in bins of 0.01. That implies a minimum |range| of 100. The range of the LFG are defined by its $m$. The range being $X : {x \\in N: x \\geq 0 \\land x \\lt m}$.\n",
    "\n",
    "In the standard case, $m=16$, that means there are 16 possible values for the Chi-square test. It is impossible to get a \"good\" result from the Chi-square test as described in [Computer Simulation Techniques: The definitive introduction, (2008)](https://people.engr.ncsu.edu/hp/files/simulation.pdf), using these settings.\n",
    "\n",
    "Now as aforementioned, the LFG is highly sensitive to its starting parameters, $j, k, m$ and the seed. To save on time, I chose to implement the Chi-square test _regular_. This version is adapted for use with integers."
   ]
  },
  {
   "cell_type": "code",
   "execution_count": 6,
   "metadata": {},
   "outputs": [],
   "source": [
    "class RandomnessTester(object):\n",
    "    \"\"\"Test suite for MyRandom\"\"\"\n",
    "    def __init__(self, generator):\n",
    "        self.random = generator\n",
    "        \n",
    "    def generate_bit_array(self, n, return_rnums=False):\n",
    "        \"\"\"Generates bitstring, returns equivalent numbers if return_rnums=True\"\"\"\n",
    "        \n",
    "        # Generate m pseudo-random numbers\n",
    "        rnums = np.array([self.random.random() for _ in range(n)], dtype=np.uint8)\n",
    "        # Get binary length of maximum random value\n",
    "        count = len(np.binary_repr(rnums.max()))\n",
    "        # Convert to list of bits with maximum bits of count\n",
    "        bitnums = list(chain.from_iterable([np.binary_repr(x, width=count) for x in rnums]))\n",
    "        \n",
    "        return bitnums, rnums if return_rnums else bitnums\n",
    "        \n",
    "    def frequency_test(self, m):\n",
    "        \"\"\"Frequency test as described in Computer Simulation Techniques: \n",
    "        The definitive introduction\"\"\"\n",
    "        # Generate m pseudo-random numbers and bitstring\n",
    "        bitnums, rnums = self.generate_bit_array(m, return_rnums=True)\n",
    "        _, counts = np.unique(bitnums, return_counts=True)\n",
    "        # Get n\n",
    "        n = len(bitnums)\n",
    "        # Get absolute sum\n",
    "        abs_sum = abs(counts[1] - counts[0])\n",
    "        # Calculate test statistic\n",
    "        test_statistic = abs_sum / (n**0.5)\n",
    "        # Compute P-value\n",
    "        P_value = erfc(test_statistic / (2**0.5))\n",
    "        # Compare P-value with 0.01, if the P-value is greater, the sequence is accepted as random\n",
    "        return P_value\n",
    "    \n",
    "    \n",
    "    def chi_test(self, m):\n",
    "        \"\"\"Chi-square test for goodness of fit for integers\"\"\"\n",
    "        # Generate m random numbers\n",
    "        rnums = np.sort([self.random.random() for _ in range(m)])\n",
    "        # Get frequencies\n",
    "        uniques, counts = np.unique(rnums, return_counts=True)\n",
    "        complete_uniques = [0 if x not in uniques else counts[x] for x in range(0, self.random.RAND_MAX)]\n",
    "        # scipy.statistics chi-square test\n",
    "        chisq, P_value = chisquare(complete_uniques)\n",
    "        # Compare P_value with 0.01, if the P_value is greater, the sequence is rejected as random\n",
    "        return P_value"
   ]
  },
  {
   "cell_type": "code",
   "execution_count": 7,
   "metadata": {},
   "outputs": [
    {
     "name": "stdout",
     "output_type": "stream",
     "text": [
      "The P-value for the frequency test: 0.17068690164393407\n",
      "The P value for the chi-square test: 5.395807063175632e-29\n"
     ]
    }
   ],
   "source": [
    "freq_P = RandomnessTester(MyRandom(6421893, m=16, j=1, k=4)).frequency_test(m=10000)\n",
    "chi_P = RandomnessTester(MyRandom(6421893, m=16, j=1, k=4)).chi_test(m=10000)\n",
    "print(f\"The P-value for the frequency test: {freq_P}\\nThe P value for the chi-square test: {chi_P}\")"
   ]
  },
  {
   "cell_type": "markdown",
   "metadata": {},
   "source": [
    "### Results\n",
    "The way to analyse these results differ between the two tests. \n",
    "#### Frequency test (monobit)\n",
    "if _P-value_ $\\gt \\alpha$, then the sequence is accepted as a random sequence. The $\\alpha$ as defined in [Computer Simulation Techniques: The definitive introduction, (2008)](https://people.engr.ncsu.edu/hp/files/simulation.pdf) equals 0.01.\n",
    "\n",
    "The P-value for the frequency test at $m=16, j=1, k=1, seed=6421893$, equals 0.17. Thus, the sequence is accepted as random."
   ]
  },
  {
   "cell_type": "code",
   "execution_count": 8,
   "metadata": {},
   "outputs": [
    {
     "name": "stdout",
     "output_type": "stream",
     "text": [
      "Frequency test; sequence is accepted as random\n"
     ]
    }
   ],
   "source": [
    "print(\"Frequency test; sequence is\",\"accepted\" if freq_P > 0.01 else \"rejected\", \"as random\")"
   ]
  },
  {
   "cell_type": "markdown",
   "metadata": {},
   "source": [
    "#### Chi-square test\n",
    "If _P-value_ $\\lt \\alpha$ then the sequence is accepted as a random sequence. The $\\alpha$ as defined in [Computer Simulation Techniques: The definitive introduction, (2008)](https://people.engr.ncsu.edu/hp/files/simulation.pdf) equals 0.01.\n",
    "\n",
    "The P-value for the Chi-square test at $m=16, j=1, k=1, seed=6421893$, equals $5.40 \\cdot 10^{-29}$. Thus, the sequence is accepted as random."
   ]
  },
  {
   "cell_type": "code",
   "execution_count": 9,
   "metadata": {},
   "outputs": [
    {
     "name": "stdout",
     "output_type": "stream",
     "text": [
      "Chi-square test; sequence is accepted as random\n"
     ]
    }
   ],
   "source": [
    "print(\"Chi-square test; sequence is\",\"accepted\" if chi_P < 0.01 else \"rejected\", \"as random\")"
   ]
  },
  {
   "cell_type": "markdown",
   "metadata": {},
   "source": [
    "## Approximating $\\pi$ using random numbers\n",
    "It is possible to approximate $\\pi$ using random numbers. Simply generate $n$ coordinates, with each $x$ and $y$ coordinate being a float between 0 and 1 (inclusive). Then mark the points within the circle as _in circle_ and those outside the circle as _out circle_.\n",
    "\n",
    "For each coordinate, check the if Euclidian distance is equal or smaller than 1. If true, it is within the circle, if false, it is not.\n",
    "\n",
    "Count all of the coordinates inside the circle ($i$) and divide by the total number of coordinates ($n$), multiply this by 4.\n",
    "\n",
    "$\\pi = \\dfrac{i}{n} \\cdot 4$"
   ]
  },
  {
   "cell_type": "code",
   "execution_count": 10,
   "metadata": {},
   "outputs": [],
   "source": [
    "def approximate_circle(rand_func, n):\n",
    "    \"\"\"Approximate circle pi\"\"\"\n",
    "    # count values inside of circle\n",
    "    inside_count = 0\n",
    "    \n",
    "    # Lists for plotting\n",
    "    insides = [[],[]]\n",
    "    outsides = [[],[]]\n",
    "    # Change xlim, ylim to better fit quarter circle\n",
    "    plt.ylim((-0.1, 1.1))\n",
    "    plt.xlim((-0.1, 1.1))\n",
    "    \n",
    "    # Generate n random coordinates\n",
    "    for i in range(n):\n",
    "        x, y = rand_func(), rand_func()\n",
    "        # Check if (x,y) is in circle\n",
    "        if (x**2 + y**2)**0.5 <= 1:\n",
    "            # succes inside_count\n",
    "            inside_count += 1\n",
    "            # Append to correct list for plotting\n",
    "            insides[0].append(x)\n",
    "            insides[1].append(y)\n",
    "        else:\n",
    "            # Append to correct list for plotting\n",
    "            outsides[0].append(x)\n",
    "            outsides[1].append(y)\n",
    "\n",
    "    # plot point as blue\n",
    "    plt.scatter(insides[0], insides[1], color=\"blue\")\n",
    "    # plot point as red\n",
    "    plt.scatter(outsides[0], outsides[1], color=\"red\")\n",
    "    pi = 4 * inside_count / n\n",
    "    return pi\n",
    "    \n",
    "    plt.show()"
   ]
  },
  {
   "cell_type": "markdown",
   "metadata": {},
   "source": [
    "### ALFG\n",
    "The ALFG gets very close. "
   ]
  },
  {
   "cell_type": "code",
   "execution_count": 11,
   "metadata": {},
   "outputs": [
    {
     "name": "stdout",
     "output_type": "stream",
     "text": [
      "Approx. ALFG Pi: 3.14272\n",
      "Diff real Pi: 0.001127346410207064\n"
     ]
    },
    {
     "data": {
      "image/png": "[encoded data removed]",
      "text/plain": [
       "<Figure size 432x288 with 1 Axes>"
      ]
     },
     "metadata": {
      "needs_background": "light"
     },
     "output_type": "display_data"
    }
   ],
   "source": [
    "ALFG = MyRandom(6421893, m=1000)\n",
    "ALFG_pi = approximate_circle(ALFG.randfloat, 100000)\n",
    "print(f\"Approx. ALFG Pi: {ALFG_pi}\\nDiff real Pi: {abs(ALFG_pi - pi)}\")"
   ]
  },
  {
   "cell_type": "markdown",
   "metadata": {},
   "source": [
    "### Python Random module\n",
    "The Python module doesn't get as close as the ALFG. The ALFG is about twice as accurate."
   ]
  },
  {
   "cell_type": "code",
   "execution_count": 12,
   "metadata": {},
   "outputs": [
    {
     "name": "stdout",
     "output_type": "stream",
     "text": [
      "Approx. py.Random Pi: 3.13824\n",
      "Diff real Pi: 0.0033526535897929755\n"
     ]
    },
    {
     "data": {
      "image/png": "[encoded data removed]",
      "text/plain": [
       "<Figure size 432x288 with 1 Axes>"
      ]
     },
     "metadata": {
      "needs_background": "light"
     },
     "output_type": "display_data"
    }
   ],
   "source": [
    "from random import random\n",
    "py_pi = approximate_circle(random, 100000)\n",
    "print(f\"Approx. py.Random Pi: {py_pi}\\nDiff real Pi: {abs(py_pi - pi)}\")"
   ]
  },
  {
   "cell_type": "code",
   "execution_count": null,
   "metadata": {},
   "outputs": [],
   "source": []
  }
 ],
 "metadata": {
  "kernelspec": {
   "display_name": "Python 3",
   "language": "python",
   "name": "python3"
  },
  "language_info": {
   "codemirror_mode": {
    "name": "ipython",
    "version": 3
   },
   "file_extension": ".py",
   "mimetype": "text/x-python",
   "name": "python",
   "nbconvert_exporter": "python",
   "pygments_lexer": "ipython3",
   "version": "3.7.5"
  }
 },
 "nbformat": 4,
 "nbformat_minor": 2
}
