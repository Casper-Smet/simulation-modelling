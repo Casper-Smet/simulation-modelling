{
 "cells": [
  {
   "cell_type": "code",
   "execution_count": 8,
   "metadata": {},
   "outputs": [],
   "source": [
    "import numpy as np"
   ]
  },
  {
   "cell_type": "code",
   "execution_count": null,
   "metadata": {},
   "outputs": [],
   "source": [
    "class MyRandom(object):\n",
    "    def __init__(self, seed: int, operation: str =\"+\", j: int =3, k: int =7, m: int =10):\n",
    "        assert 0 < j < k\n",
    "        seed = str(seed)\n",
    "        assert len(seed) >= k\n",
    "        \n",
    "        if operation == \"+\":\n",
    "            self.op = lambda x, y : x + y\n",
    "        elif operation == \"*\":\n",
    "            self.op = lambda x, y : x * y\n",
    "        elif operation == \"-\":\n",
    "            self.op = lambda x, y : x - y\n",
    "        else:\n",
    "            raise Exception\n",
    "        \n",
    "        self.seed = np.fromiter(map(int, seed), dtype=np.int)\n",
    "        self.j = j\n",
    "        self.k = k\n",
    "        self.m = m\n",
    "    def random(self):\n",
    "        randint = self.op(self.seed[self.j-1], self.seed[self.k-1]) % self.m\n",
    "        self.seed = np.append(self.seed[1:], randint)\n",
    "        return randint\n",
    "        \n",
    "        "
   ]
  },
  {
   "cell_type": "code",
   "execution_count": 25,
   "metadata": {},
   "outputs": [
    {
     "name": "stdout",
     "output_type": "stream",
     "text": [
      "[6 4 2 1 8 9 3] 5\n",
      "[4 2 1 8 9 3 5] 6\n",
      "[2 1 8 9 3 5 6] 4\n",
      "[1 8 9 3 5 6 4] 3\n",
      "[8 9 3 5 6 4 3] 6\n"
     ]
    }
   ],
   "source": [
    "rand_add = MyRandom(6421893)\n",
    "for i in range(5):\n",
    "    print(rand_add.seed, rand_add.random())"
   ]
  },
  {
   "cell_type": "code",
   "execution_count": 24,
   "metadata": {},
   "outputs": [
    {
     "name": "stdout",
     "output_type": "stream",
     "text": [
      "[6 4 2 1 8 9 3] 6\n",
      "[4 2 1 8 9 3 6] 6\n",
      "[2 1 8 9 3 6 6] 8\n",
      "[1 8 9 3 6 6 8] 2\n",
      "[8 9 3 6 6 8 2] 6\n"
     ]
    }
   ],
   "source": [
    "rand_mult = MyRandom(6421893, operation=\"*\")\n",
    "for i in range(5):\n",
    "    print(rand_mult.seed, rand_mult.random())"
   ]
  },
  {
   "cell_type": "code",
   "execution_count": 26,
   "metadata": {},
   "outputs": [
    {
     "name": "stdout",
     "output_type": "stream",
     "text": [
      "[6 4 2 1 8 9 3] 9\n",
      "[4 2 1 8 9 3 9] 2\n",
      "[2 1 8 9 3 9 2] 6\n",
      "[1 8 9 3 9 2 6] 3\n",
      "[8 9 3 9 2 6 3] 0\n"
     ]
    }
   ],
   "source": [
    "rand_sub = MyRandom(6421893, operation=\"-\")\n",
    "for i in range(5):\n",
    "    print(rand_sub.seed, rand_sub.random())"
   ]
  }
 ],
 "metadata": {
  "kernelspec": {
   "display_name": "Python 3",
   "language": "python",
   "name": "python3"
  },
  "language_info": {
   "codemirror_mode": {
    "name": "ipython",
    "version": 3
   },
   "file_extension": ".py",
   "mimetype": "text/x-python",
   "name": "python",
   "nbconvert_exporter": "python",
   "pygments_lexer": "ipython3",
   "version": "3.7.5"
  }
 },
 "nbformat": 4,
 "nbformat_minor": 2
}
