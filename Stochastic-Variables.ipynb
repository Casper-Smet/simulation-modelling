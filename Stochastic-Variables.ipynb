{
 "cells": [
  {
   "cell_type": "code",
   "execution_count": 1,
   "metadata": {},
   "outputs": [],
   "source": [
    "from scipy.special import ndtri\n",
    "from scipy.stats import normaltest\n",
    "import numpy as np\n",
    "from RNG import MyRandom\n",
    "random = MyRandom(6421893, m=1000)\n",
    "\n",
    "import seaborn as sns"
   ]
  },
  {
   "cell_type": "markdown",
   "metadata": {},
   "source": [
    "# Generating stochastic variables from a distribution of choice\n",
    "The method used in this ipynb is called inverse transform sampling. The problem solved by this method is defined as such (sourced from [\"Wikipedia\"](https://en.wikipedia.org/wiki/Inverse_transform_sampling))  \n",
    "* Let $X$ be a random variable whose distribution can be described by the cumulative distribution function $F_X$\n",
    "* We want to generate values of $X$  which are distributed according to this distribution  \n",
    "\n",
    "The method is then:\n",
    "1. Generate a random number $u$ from the standard uniform distribution in the interval $[0,1]$\n",
    "2. Find the inverse of the desired CDF, for example $F^{-1}_{X}(x)$\n",
    "3. Compute $X = F^{-1}_{X}(u)$. The computed random variabel $X$ has distribution $F_{X}(x)$  \n",
    "\n",
    "So, the first step is to generate 10,000 pseudo-random variables in $[0,1]$"
   ]
  },
  {
   "cell_type": "code",
   "execution_count": 2,
   "metadata": {},
   "outputs": [
    {
     "data": {
      "text/plain": [
       "[0.007007007007007007,\n",
       " 0.012012012012012012,\n",
       " 0.011011011011011011,\n",
       " 0.004004004004004004,\n",
       " 0.015015015015015015,\n",
       " 0.021021021021021023,\n",
       " 0.014014014014014014,\n",
       " 0.011011011011011011,\n",
       " 0.02702702702702703,\n",
       " 0.03203203203203203]"
      ]
     },
     "execution_count": 2,
     "metadata": {},
     "output_type": "execute_result"
    }
   ],
   "source": [
    "r_nums = [random.randfloat() for _ in range(10000)]\n",
    "r_nums[:10]"
   ]
  },
  {
   "cell_type": "markdown",
   "metadata": {},
   "source": [
    "The next step is to find the inverse CDF of the desired distribution. The distribution of choice is the normal distribution (bell curve). The chosen technique to convert `rnums` to stochastic variables is called `ndtri`, it is sourced from scipy."
   ]
  },
  {
   "cell_type": "code",
   "execution_count": 3,
   "metadata": {},
   "outputs": [
    {
     "data": {
      "text/plain": [
       "array([-2.45690397, -2.25674483, -2.28998783, -2.65173198, -2.16969406,\n",
       "       -2.03310375, -2.19689385, -2.28998783, -1.92640315, -1.85173376])"
      ]
     },
     "execution_count": 3,
     "metadata": {},
     "output_type": "execute_result"
    }
   ],
   "source": [
    "bell_nums = ndtri(r_nums)\n",
    "bell_nums[:10]"
   ]
  },
  {
   "cell_type": "markdown",
   "metadata": {},
   "source": [
    "Values of `0` and `1` are represented as `-inf` and `inf` by ndtri. In order to plot `bell_nums`, the `-inf` and `inf` values need to be handled. The values `-inf` and `inf` will be replaced by -2 and 2, respectively."
   ]
  },
  {
   "cell_type": "code",
   "execution_count": 4,
   "metadata": {},
   "outputs": [],
   "source": [
    "plot_nums = bell_nums.copy()\n",
    "plot_nums[plot_nums == -np.Inf] = -2\n",
    "plot_nums[plot_nums == np.Inf] = 2"
   ]
  },
  {
   "cell_type": "code",
   "execution_count": 5,
   "metadata": {},
   "outputs": [
    {
     "data": {
      "text/plain": [
       "<matplotlib.axes._subplots.AxesSubplot at 0x21ffed209c8>"
      ]
     },
     "execution_count": 5,
     "metadata": {},
     "output_type": "execute_result"
    },
    {
     "data": {
      "image/png": "[encoded data removed]",
      "text/plain": [
       "<Figure size 432x288 with 1 Axes>"
      ]
     },
     "metadata": {
      "needs_background": "light"
     },
     "output_type": "display_data"
    }
   ],
   "source": [
    "sns.distplot(plot_nums)"
   ]
  },
  {
   "cell_type": "markdown",
   "metadata": {},
   "source": [
    "Now this certainly looks normally distributed, but how do we know? In order to properly test this, one can use [D'Agostino and Pearson's test](https://docs.scipy.org/doc/scipy/reference/generated/scipy.stats.normaltest.html) implemented in SciPy. It combines the \"skewtest\" (D'Agostino) and the \"Kurtosis\" (Anscombe, Glynn) test to produce \"an omnibus test of normality\".  \n",
    "\n",
    "The `normaltest` function returns two things:\n",
    "* `ks2`, $s^{2} + k^{2}$, where $s$ is the z-score returned by the skewtest, and $k$ is the z-score returned by the kurtosistest.\n",
    "* `p`, a 2-sided chi squared probability for the hypothesis test.  \n",
    "\n",
    "The hypotheses:\n",
    "\n",
    "* Null hypothesis: `plot_nums` is generated from a normal distribution\n",
    "* Alternative hypothesis: `plot_nums` was not generated from a normal distribution\n",
    "\n",
    "If $p \\lt a $, reject the null hypothesis and accept the alternative.  The alpha is taken from the SciPy example for [`normaltest`](https://docs.scipy.org/doc/scipy/reference/generated/scipy.stats.normaltest.html).   \n",
    "$a = 1e^{-3}$"
   ]
  },
  {
   "cell_type": "code",
   "execution_count": 6,
   "metadata": {},
   "outputs": [
    {
     "data": {
      "text/plain": [
       "(8.90961781535816, 0.011622540640704532)"
      ]
     },
     "execution_count": 6,
     "metadata": {},
     "output_type": "execute_result"
    }
   ],
   "source": [
    "ks2, p = normaltest(plot_nums)\n",
    "a = 1e-3\n",
    "ks2, p"
   ]
  },
  {
   "cell_type": "code",
   "execution_count": 7,
   "metadata": {},
   "outputs": [
    {
     "name": "stdout",
     "output_type": "stream",
     "text": [
      "The null hypothesis may not be rejected\n"
     ]
    }
   ],
   "source": [
    "print(\"The null hypothesis may\", \"\" if p < a else \"not\", \"be rejected\")"
   ]
  }
 ],
 "metadata": {
  "kernelspec": {
   "display_name": "Python 3",
   "language": "python",
   "name": "python3"
  },
  "language_info": {
   "codemirror_mode": {
    "name": "ipython",
    "version": 3
   },
   "file_extension": ".py",
   "mimetype": "text/x-python",
   "name": "python",
   "nbconvert_exporter": "python",
   "pygments_lexer": "ipython3",
   "version": "3.7.5"
  }
 },
 "nbformat": 4,
 "nbformat_minor": 2
}
